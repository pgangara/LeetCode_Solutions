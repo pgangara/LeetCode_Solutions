{
 "cells": [
  {
   "cell_type": "markdown",
   "metadata": {},
   "source": [
    "Roman numerals are represented by seven different symbols: I, V, X, L, C, D and M.<br/>\n",
    "\n",
    "Symbol       Value <br/>\n",
    "I             1 <br/>\n",
    "V             5 <br/>\n",
    "X             10 <br/>\n",
    "L             50<br/>\n",
    "C             100<br/>\n",
    "D             500<br/>\n",
    "M             1000<br/>\n",
    "For example, two is written as II in Roman numeral, just two one's added together. Twelve is written as, XII, which is simply X + II. The number twenty seven is written as XXVII, which is XX + V + II.<br/>\n",
    "\n",
    "Roman numerals are usually written largest to smallest from left to right. However, the numeral for four is not IIII. Instead, the number four is written as IV. Because the one is before the five we subtract it making four. The same principle applies to the number nine, which is written as IX. There are six instances where subtraction is used:<br/>\n",
    "\n",
    "I can be placed before V (5) and X (10) to make 4 and 9. <br/>\n",
    "X can be placed before L (50) and C (100) to make 40 and 90. <br/>\n",
    "C can be placed before D (500) and M (1000) to make 400 and 900.<br/>\n",
    "Given a roman numeral, convert it to an integer. Input is guaranteed to be within the range from 1 to 3999.<br/>\n",
    "\n",
    "Example 1:<br/>\n",
    "\n",
    "Input: \"III\"<br/>\n",
    "Output: 3<br/>\n",
    "Example 2:<br/>\n",
    "\n",
    "Input: \"IV\"<br/>\n",
    "Output: 4<br/>\n",
    "Example 3:<br/>\n",
    "\n",
    "Input: \"IX\"<br/>\n",
    "Output: 9<br/>\n",
    "Example 4:<br/>\n",
    "\n",
    "Input: \"LVIII\"<br/>\n",
    "Output: 58<br/>\n",
    "Explanation: L = 50, V= 5, III = 3.<br/>\n",
    "Example 5:\n",
    "\n",
    "Input: \"MCMXCIV\"<br/>\n",
    "Output: 1994<br/>\n",
    "Explanation: M = 1000, CM = 900, XC = 90 and IV = 4.<br/>\n"
   ]
  },
  {
   "cell_type": "markdown",
   "metadata": {},
   "source": [
    "# Brute-force method"
   ]
  },
  {
   "cell_type": "code",
   "execution_count": 9,
   "metadata": {},
   "outputs": [],
   "source": [
    "def romanToInt(num):\n",
    "    roman_numerals = {'M':1000,'C':100,'L':50,'X':10,'V':5,'I':1}\n",
    "    result = 0\n",
    "    for i,c in enumerate(num):\n",
    "        if (i+1) == len(num) or roman_numerals[c] >= roman_numerals[num[i+1]]:\n",
    "            result += roman_numerals[c]\n",
    "        else:\n",
    "            result -= roman_numerals[c]\n",
    "    return result\n",
    "    \n",
    "    "
   ]
  },
  {
   "cell_type": "code",
   "execution_count": 13,
   "metadata": {},
   "outputs": [
    {
     "data": {
      "text/plain": [
       "1997"
      ]
     },
     "execution_count": 13,
     "metadata": {},
     "output_type": "execute_result"
    }
   ],
   "source": [
    "romanToInt(\"MCMXCVII\")"
   ]
  },
  {
   "cell_type": "code",
   "execution_count": null,
   "metadata": {},
   "outputs": [],
   "source": []
  }
 ],
 "metadata": {
  "kernelspec": {
   "display_name": "Python 3",
   "language": "python",
   "name": "python3"
  },
  "language_info": {
   "codemirror_mode": {
    "name": "ipython",
    "version": 3
   },
   "file_extension": ".py",
   "mimetype": "text/x-python",
   "name": "python",
   "nbconvert_exporter": "python",
   "pygments_lexer": "ipython3",
   "version": "3.7.6"
  }
 },
 "nbformat": 4,
 "nbformat_minor": 4
}
