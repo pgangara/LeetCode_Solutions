{
 "cells": [
  {
   "cell_type": "markdown",
   "metadata": {},
   "source": [
    "Given a 32-bit signed integer, reverse digits of an integer.</b>\n",
    "\n",
    "Example 1:\n",
    "\n",
    "Input: 123 <br/>\n",
    "Output: 321<br/>\n",
    "Example 2:<br/>\n",
    "\n",
    "Input: -123<br/>\n",
    "Output: -321<br/>\n",
    "Example 3:<br/>\n",
    "\n",
    "Input: 120<br/>\n",
    "Output: 21<br/>\n",
    "Note:\n",
    "Assume we are dealing with an environment which could only store integers within the 32-bit signed integer range: [−231,  231 − 1]. <br/>For the purpose of this problem, assume that your function returns 0 when the reversed integer overflows."
   ]
  },
  {
   "cell_type": "code",
   "execution_count": 27,
   "metadata": {},
   "outputs": [],
   "source": [
    "class Soulution:\n",
    "    def __init__(self,x):\n",
    "        self.x = x\n",
    "        \n",
    "    def reverseInteger(self,x):\n",
    "        X = str(abs(x))\n",
    "        X = X.strip()\n",
    "        X = X[::-1]\n",
    "        r = int(X)\n",
    "        \n",
    "        r = int(X)\n",
    "        if r >= pow(2, 31): \n",
    "            return 0\n",
    "        \n",
    "        return r if x > 0 else -r\n",
    "            \n",
    "             \n",
    "            "
   ]
  },
  {
   "cell_type": "code",
   "execution_count": 28,
   "metadata": {},
   "outputs": [
    {
     "data": {
      "text/plain": [
       "0"
      ]
     },
     "execution_count": 28,
     "metadata": {},
     "output_type": "execute_result"
    }
   ],
   "source": [
    "p1 = Soulution(1534236469)\n",
    "p1.reverseInteger(1534236469)"
   ]
  },
  {
   "cell_type": "code",
   "execution_count": null,
   "metadata": {},
   "outputs": [],
   "source": []
  }
 ],
 "metadata": {
  "kernelspec": {
   "display_name": "Python 3",
   "language": "python",
   "name": "python3"
  },
  "language_info": {
   "codemirror_mode": {
    "name": "ipython",
    "version": 3
   },
   "file_extension": ".py",
   "mimetype": "text/x-python",
   "name": "python",
   "nbconvert_exporter": "python",
   "pygments_lexer": "ipython3",
   "version": "3.7.6"
  }
 },
 "nbformat": 4,
 "nbformat_minor": 4
}
