{
 "cells": [
  {
   "cell_type": "markdown",
   "metadata": {},
   "source": [
    "Write a function to find the longest common prefix string amongst an array of strings.<br/>\n",
    "\n",
    "If there is no common prefix, return an empty string \"\".<br/>\n",
    "\n",
    "Example 1:<br/>\n",
    "\n",
    "Input: [\"flower\",\"flow\",\"flight\"]<br/>\n",
    "Output: \"fl\"<br/>\n",
    "Example 2:<br/>\n",
    "\n",
    "Input: [\"dog\",\"racecar\",\"car\"]<br/>\n",
    "Output: \"\"<br/>\n",
    "Explanation: There is no common prefix among the input strings.<br/>\n",
    "Note:<br/>\n",
    "\n",
    "All given inputs are in lowercase letters a-z.\n",
    "\n"
   ]
  },
  {
   "cell_type": "code",
   "execution_count": 1,
   "metadata": {},
   "outputs": [],
   "source": [
    "def longestCommonPrefix(x):\n",
    "    longest_pre = \"\"\n",
    "    if not strs: return longest_pre\n",
    "    shortest_str = min(strs, key=len)\n",
    "    for i in range(len(shortest_str)):\n",
    "        if all([x.startswith(shortest_str[:i+1]) for x in strs]):\n",
    "            longest_pre = shortest_str[:i+1]\n",
    "        else:\n",
    "            break\n",
    "    return longest_pre\n",
    "        "
   ]
  },
  {
   "cell_type": "code",
   "execution_count": null,
   "metadata": {},
   "outputs": [],
   "source": []
  }
 ],
 "metadata": {
  "kernelspec": {
   "display_name": "Python 3",
   "language": "python",
   "name": "python3"
  },
  "language_info": {
   "codemirror_mode": {
    "name": "ipython",
    "version": 3
   },
   "file_extension": ".py",
   "mimetype": "text/x-python",
   "name": "python",
   "nbconvert_exporter": "python",
   "pygments_lexer": "ipython3",
   "version": "3.7.6"
  }
 },
 "nbformat": 4,
 "nbformat_minor": 4
}
