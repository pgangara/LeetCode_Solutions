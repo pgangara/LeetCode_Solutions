{
 "cells": [
  {
   "cell_type": "markdown",
   "metadata": {},
   "source": [
    "Determine whether an integer is a palindrome. An integer is a palindrome when it reads the same backward as forward.\n",
    "\n",
    "Example 1:<br/>\n",
    "\n",
    "Input: 121<br/>\n",
    "Output: true<br/>\n",
    "Example 2:<br/>\n",
    "\n",
    "Input: -121<br/>\n",
    "Output: false<br/>\n",
    "Explanation: From left to right, it reads -121. From right to left, it becomes 121-.<br/> Therefore it is not a palindrome.<br/>\n",
    "Example 3:<br/>\n",
    "\n",
    "Input: 10<br/>\n",
    "Output: false<br/>\n",
    "Explanation: Reads 01 from right to left. Therefore it is not a palindrome.<br/>\n",
    "Follow up:<br/>\n",
    "\n",
    "Coud you solve it without converting the integer to a string?\n",
    "\n"
   ]
  },
  {
   "cell_type": "code",
   "execution_count": 20,
   "metadata": {},
   "outputs": [],
   "source": [
    "class Solution:\n",
    "    def isPalindrome(self, x):\n",
    "        if x > 0:\n",
    "            temp = x\n",
    "            rev_int_elements = []\n",
    "            while temp > 0:\n",
    "                digit = temp % 10 # reminder\n",
    "                rev_int_elements.append(digit)\n",
    "                temp = temp // 10 ## Quotient\n",
    "            org_int_elements = rev_int_elements[::-1]\n",
    "            return rev_int_elements == org_int_elements\n",
    "        elif x == 0:\n",
    "            return True\n",
    "        else:\n",
    "            return False"
   ]
  },
  {
   "cell_type": "code",
   "execution_count": 23,
   "metadata": {},
   "outputs": [
    {
     "data": {
      "text/plain": [
       "False"
      ]
     },
     "execution_count": 23,
     "metadata": {},
     "output_type": "execute_result"
    }
   ],
   "source": [
    "p1 = Solution()\n",
    "p1.isPalindrome(12)"
   ]
  },
  {
   "cell_type": "code",
   "execution_count": null,
   "metadata": {},
   "outputs": [],
   "source": []
  }
 ],
 "metadata": {
  "kernelspec": {
   "display_name": "Python 3",
   "language": "python",
   "name": "python3"
  },
  "language_info": {
   "codemirror_mode": {
    "name": "ipython",
    "version": 3
   },
   "file_extension": ".py",
   "mimetype": "text/x-python",
   "name": "python",
   "nbconvert_exporter": "python",
   "pygments_lexer": "ipython3",
   "version": "3.7.6"
  }
 },
 "nbformat": 4,
 "nbformat_minor": 4
}
